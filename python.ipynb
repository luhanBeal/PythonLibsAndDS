{
  "nbformat": 4,
  "nbformat_minor": 0,
  "metadata": {
    "colab": {
      "name": "aula_1_python.ipynb",
      "provenance": [],
      "collapsed_sections": [],
      "include_colab_link": true
    },
    "kernelspec": {
      "name": "python3",
      "display_name": "Python 3"
    }
  },
  "cells": [
    {
      "cell_type": "markdown",
      "metadata": {
        "id": "view-in-github",
        "colab_type": "text"
      },
      "source": [
        "<a href=\"https://colab.research.google.com/github/luhanBeal/PythonLibsAndDS/blob/master/python.ipynb\" target=\"_parent\"><img src=\"https://colab.research.google.com/assets/colab-badge.svg\" alt=\"Open In Colab\"/></a>"
      ]
    },
    {
      "cell_type": "code",
      "metadata": {
        "id": "-awqSqU_Rhrd",
        "colab_type": "code",
        "colab": {}
      },
      "source": [
        "import numpy as np #biblioteca utilizada para trabalhar com vetores\n",
        "import pandas as pd #biblioteca para trabalhar com dataframes (planilhas excel)\n",
        "import seaborn as sns #biblioteca utilizada para criar gráficos mais \"bonitos\"\n",
        "import matplotlib.pyplot as plt #biblioteca para criar gráficos \"comuns\" ao estilo Matlab"
      ],
      "execution_count": 35,
      "outputs": []
    },
    {
      "cell_type": "code",
      "metadata": {
        "id": "fEIyiNgsSmx3",
        "colab_type": "code",
        "colab": {
          "resources": {
            "http://localhost:8080/nbextensions/google.colab/files.js": {
              "data": "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",
              "ok": true,
              "headers": [
                [
                  "content-type",
                  "application/javascript"
                ]
              ],
              "status": 200,
              "status_text": ""
            }
          },
          "base_uri": "https://localhost:8080/",
          "height": 38
        },
        "outputId": "2fe83a72-8f0c-4d74-ac32-9037ac9b8614"
      },
      "source": [
        "#função utilizada para realizar o upload do arquivo para a segmentação de cliente\n",
        "#apenas para o google colab\n",
        "from google.colab import files\n",
        "uploaded = files.upload()"
      ],
      "execution_count": null,
      "outputs": [
        {
          "output_type": "display_data",
          "data": {
            "text/html": [
              "\n",
              "     <input type=\"file\" id=\"files-f52d3c2a-bc65-4347-b15c-69870d1232bc\" name=\"files[]\" multiple disabled\n",
              "        style=\"border:none\" />\n",
              "     <output id=\"result-f52d3c2a-bc65-4347-b15c-69870d1232bc\">\n",
              "      Upload widget is only available when the cell has been executed in the\n",
              "      current browser session. Please rerun this cell to enable.\n",
              "      </output>\n",
              "      <script src=\"/nbextensions/google.colab/files.js\"></script> "
            ],
            "text/plain": [
              "<IPython.core.display.HTML object>"
            ]
          },
          "metadata": {
            "tags": []
          }
        }
      ]
    },
    {
      "cell_type": "code",
      "metadata": {
        "id": "ScHpjNGoSE29",
        "colab_type": "code",
        "colab": {}
      },
      "source": [
        "# abrir o arquivo csv que contém os dados a serem utilizados durante a prática\n",
        "#USANDO O PANDAS\n",
        "customers = pd.read_csv('Mall_Customers.csv')\n"
      ],
      "execution_count": null,
      "outputs": []
    },
    {
      "cell_type": "code",
      "metadata": {
        "id": "AVOSMyACS075",
        "colab_type": "code",
        "colab": {}
      },
      "source": [
        "#visualizando as 5 primeiras linhas do banco de dados\n",
        "customers.head()\n"
      ],
      "execution_count": null,
      "outputs": []
    },
    {
      "cell_type": "markdown",
      "metadata": {
        "id": "Nm7w-si7TJzr",
        "colab_type": "text"
      },
      "source": [
        "\n",
        "\n",
        "\n",
        "*  **CustomerID** = Identificação única de um cliente\n",
        "*  **Gender** = Gênero do cliente\n",
        "*  **Age** = Idade do consumidor\n",
        "* **Annual Income** = Renda anual do cliente\n",
        "* **Spending Score** = \n",
        "Pontuação atribuída pelo shopping com base no comportamento do cliente e na natureza do gasto\n",
        "\n",
        "\n"
      ]
    },
    {
      "cell_type": "code",
      "metadata": {
        "id": "WOL_X7M8TuCg",
        "colab_type": "code",
        "colab": {}
      },
      "source": [
        "#analisando o banco de dados\n",
        "customers.describe() #função que retorna uma análise superficial dos dados "
      ],
      "execution_count": null,
      "outputs": []
    },
    {
      "cell_type": "markdown",
      "metadata": {
        "id": "VUPu73QzUXyC",
        "colab_type": "text"
      },
      "source": [
        "* **count** = número de elementos (linhas) existente no banco de dados\n",
        "* **mean** = média dos valores na coluna\n",
        "* **std** = desvio padrão dos dados presentes na coluna\n",
        "* **min** = menor valor existente na coluna\n",
        "* **25%** = primeiro quartil dos dados (25%)\n",
        "* **50%** = segundo quartil dos dados (50%)\n",
        "* **75%** = terceiro quartil dos dados (75%)\n",
        "* **max** = valor máximo existente na coluna "
      ]
    },
    {
      "cell_type": "markdown",
      "metadata": {
        "id": "4XmX19jB2STR",
        "colab_type": "text"
      },
      "source": [
        "# Nova seção"
      ]
    },
    {
      "cell_type": "markdown",
      "metadata": {
        "id": "91yVd5ldWGa_",
        "colab_type": "text"
      },
      "source": [
        "**Verificando se existem outliers (anomalias) nos dados. Para isso, será utilizado o boxplot.**"
      ]
    },
    {
      "cell_type": "code",
      "metadata": {
        "id": "33ecdfNNWPbS",
        "colab_type": "code",
        "colab": {}
      },
      "source": [
        "boxplot = customers.boxplot(column=['Age', 'Annual Income (k$)', 'Spending Score (1-100)'])  #constroi o boxplot para as colunas desejadas"
      ],
      "execution_count": null,
      "outputs": []
    },
    {
      "cell_type": "markdown",
      "metadata": {
        "id": "BnN9tCSiXCQa",
        "colab_type": "text"
      },
      "source": [
        "**Explorando os dados. Entendendo alguns relacionamentos e comportamentos dos clientes.**"
      ]
    },
    {
      "cell_type": "code",
      "metadata": {
        "id": "HAWOMDOwXKri",
        "colab_type": "code",
        "colab": {}
      },
      "source": [
        "#analisando a distribuição dos clientes por gênero\n",
        "sns.countplot(x='Genre', data=customers); # cria o gráfico que conta a quantidade de consumidores existente em cada um dos gêneros\n",
        "plt.title('Distribuição dos clientes quanto ao gênero');  #adiciona o título no gráfico\n"
      ],
      "execution_count": null,
      "outputs": []
    },
    {
      "cell_type": "markdown",
      "metadata": {
        "id": "ZVqJbkNSYiEy",
        "colab_type": "text"
      },
      "source": [
        "**Distribuição dos consumidores pela idade**"
      ]
    },
    {
      "cell_type": "code",
      "metadata": {
        "id": "3aGzTEjGXulB",
        "colab_type": "code",
        "colab": {}
      },
      "source": [
        "#analisando a distribuição dos clientes quanto a idade através do histograma\n",
        "customers.hist('Age', bins=35);  #seleciona a coluna idade para realizar o histograma\n",
        "                                 # os \"bins\" indicam a quantidade de grupos que se deseja dividir os dados\n",
        "plt.title('Distribuição dos clientes pela idade');# adiciona o título ao gráfico (histograma)\n",
        "plt.xlabel('Idade'); #adiciona o label para o eixo X\n"
      ],
      "execution_count": null,
      "outputs": []
    },
    {
      "cell_type": "markdown",
      "metadata": {
        "id": "2sLIYlhfYzVq",
        "colab_type": "text"
      },
      "source": [
        "**Comparando a idade dos cosumidores pelo sexo.**"
      ]
    },
    {
      "cell_type": "code",
      "metadata": {
        "id": "axlqBboLY5ki",
        "colab_type": "code",
        "colab": {}
      },
      "source": [
        "homens=customers[customers['Genre'] == 'Male'] #seleciona apenas os homens do banco de dados\n",
        "mulheres= customers[customers['Genre'] == 'Female'] #seleciona apenas as mulheres no banco de dados\n",
        "plt.hist('Age', data=homens, alpha=0.5, label='Homens'); #cria o histograma apenas da idade dos homens\n",
        "plt.hist('Age', data=mulheres, alpha=0.5, label='Mulheres'); #cria o histograma apenas para a idade das mulheres\n",
        "plt.title('Distribuição da Idade e do gênero'); #adicionao título ao gráfico\n",
        "plt.xlabel('Idade'); # adiciona o label para o eixo x\n",
        "plt.legend(); #adiciona a legenda"
      ],
      "execution_count": null,
      "outputs": []
    },
    {
      "cell_type": "markdown",
      "metadata": {
        "id": "kcM8663ZaJsb",
        "colab_type": "text"
      },
      "source": [
        "**Analisando os salários anuais recebidos pelos clientes.**"
      ]
    },
    {
      "cell_type": "code",
      "metadata": {
        "id": "HRZDjF7_aQiy",
        "colab_type": "code",
        "colab": {}
      },
      "source": [
        "customers.hist('Annual Income (k$)');  #criando um histograma para os salários anuais recebidos pelos consumidores\n",
        "plt.title('Distribuição do salário anual dos clientes em milhares de dólares'); #adiciona o título no gráfico\n",
        "plt.xlabel('Milhares de dólares'); # adiciona o label do eixo X"
      ],
      "execution_count": null,
      "outputs": []
    },
    {
      "cell_type": "markdown",
      "metadata": {
        "id": "_eQdGZPOape3",
        "colab_type": "text"
      },
      "source": [
        "**Analisando o impacto do gênero no salário anual dos clientes.**"
      ]
    },
    {
      "cell_type": "code",
      "metadata": {
        "id": "gnRpNiuda1IM",
        "colab_type": "code",
        "colab": {}
      },
      "source": [
        "homens=customers[customers['Genre'] == 'Male']\n",
        "mulheres=customers[customers['Genre'] == 'Female']\n",
        "plt.hist('Annual Income (k$)', data=homens, alpha=0.5, label='Male');\n",
        "plt.hist('Annual Income (k$)', data=mulheres, alpha=0.5, label='Female');\n",
        "plt.title('Distribuição do Salário por Gênero');\n",
        "plt.xlabel('Salário (Milhares de \"dinheiros\")');\n",
        "plt.legend();"
      ],
      "execution_count": null,
      "outputs": []
    },
    {
      "cell_type": "markdown",
      "metadata": {
        "id": "Nv53CqK19lOC",
        "colab_type": "text"
      },
      "source": [
        "**Comparando as notas atribuídas aos consumidores.**"
      ]
    },
    {
      "cell_type": "code",
      "metadata": {
        "id": "GycgszPZ9tDi",
        "colab_type": "code",
        "colab": {}
      },
      "source": [
        "# cria o banco de dados apenas para os consumidadores masculinos e femininos\n",
        "male_customers = customers[customers['Genre'] == 'Male'] #obtém apenas os consumidores homens\n",
        "female_customers = customers[customers['Genre'] == 'Female'] #obtém apenas as consumidoras mulheres\n",
        "\n",
        "# obtém os valores médios atribuídos a cada um dos sexos\n",
        "print('Nota média atribuída aos homens: ',male_customers['Spending Score (1-100)'].mean()) #imprime o valor médio para os homens\n",
        "print('Nota média atribuída às mulheres: ',female_customers['Spending Score (1-100)'].mean()) #imprime o valor média para as mulheres\n"
      ],
      "execution_count": null,
      "outputs": []
    },
    {
      "cell_type": "markdown",
      "metadata": {
        "id": "BdAUpXG0-fLN",
        "colab_type": "text"
      },
      "source": [
        "**Encontrando o salário em função da idade.**"
      ]
    },
    {
      "cell_type": "code",
      "metadata": {
        "id": "IQ_TZjRZ-npT",
        "colab_type": "code",
        "colab": {}
      },
      "source": [
        "sns.scatterplot('Age', 'Annual Income (k$)', hue='Genre', data=customers); #realiza o plot do gráfico de distribuição do salário anual em função da idade\n",
        "plt.title('Idade x Salário anual (colorido por gênero)'); #adiciona o título ao gráfico"
      ],
      "execution_count": null,
      "outputs": []
    },
    {
      "cell_type": "markdown",
      "metadata": {
        "id": "a5ThsMpC_bVU",
        "colab_type": "text"
      },
      "source": [
        "**Analisando a correlação.**"
      ]
    },
    {
      "cell_type": "code",
      "metadata": {
        "id": "Mn0ivNJW_eHZ",
        "colab_type": "code",
        "colab": {}
      },
      "source": [
        "sns.heatmap(customers.corr(), annot=True) # desenha a matriz de correlação entre cada um dos dados "
      ],
      "execution_count": null,
      "outputs": []
    },
    {
      "cell_type": "markdown",
      "metadata": {
        "id": "h1Y5cAO4_tPc",
        "colab_type": "text"
      },
      "source": [
        "**Analisando a correlação entre a nota atribuída ao cliente e a idade.**"
      ]
    },
    {
      "cell_type": "code",
      "metadata": {
        "id": "gKFYUZcF_8kT",
        "colab_type": "code",
        "colab": {}
      },
      "source": [
        "sns.scatterplot('Age', 'Spending Score (1-100)', hue='Genre', data=customers);  #realiza o plot do gráfico de dispersão \n",
        "plt.title('Idade x Nota Recebida, (Colorido por gênero))'); #adiciona o título ao gráfico"
      ],
      "execution_count": null,
      "outputs": []
    },
    {
      "cell_type": "markdown",
      "metadata": {
        "id": "VFvB5lXQAWkb",
        "colab_type": "text"
      },
      "source": [
        "**Analisando a correlação por gênero.**"
      ]
    },
    {
      "cell_type": "code",
      "metadata": {
        "id": "x_22a7u7Ai6k",
        "colab_type": "code",
        "colab": {}
      },
      "source": [
        "sns.heatmap(mulheres.corr(), annot=True); #encontra a matriz de correlação apenas entre o gênero feminino\n",
        "plt.title('Correlações apenas entre o gênero feminino'); #adiciona o título no gráfico"
      ],
      "execution_count": null,
      "outputs": []
    },
    {
      "cell_type": "code",
      "metadata": {
        "id": "RuhGmTQuA29D",
        "colab_type": "code",
        "colab": {}
      },
      "source": [
        "sns.heatmap(homens.corr(), annot=True); #encontra a matriz de correlação apenas entre o gênero masculino\n",
        "plt.title('Correlações apenas entre o gênero masculino'); #adiciona o título no gráfico"
      ],
      "execution_count": null,
      "outputs": []
    },
    {
      "cell_type": "markdown",
      "metadata": {
        "id": "pkXZbUUIBC0k",
        "colab_type": "text"
      },
      "source": [
        "**Analisando a correlação e tendência entre a idade e a nota atribuída apenas para as consumidoras.**"
      ]
    },
    {
      "cell_type": "code",
      "metadata": {
        "id": "llWrsPAYBQBr",
        "colab_type": "code",
        "colab": {}
      },
      "source": [
        "sns.lmplot('Age', 'Spending Score (1-100)', data=mulheres); #encontra o gráfico de dispersão e a tendência nos dados\n",
        "plt.title('Idade x Nota atribuída, (apenas mulheres))'); # adiciona o título no gráfico"
      ],
      "execution_count": null,
      "outputs": []
    },
    {
      "cell_type": "markdown",
      "metadata": {
        "id": "QfDY9j1DBulv",
        "colab_type": "text"
      },
      "source": [
        "**Analisando a relação entre salário anual e a nota atribuída aos clientes.**"
      ]
    },
    {
      "cell_type": "code",
      "metadata": {
        "id": "Uj9PsdCcB1Yy",
        "colab_type": "code",
        "colab": {}
      },
      "source": [
        "sns.scatterplot('Annual Income (k$)', 'Spending Score (1-100)', hue='Genre', data=customers); # constrói o gráfico de dispersão entre os dados\n",
        "plt.title('Salário anual x Nota atribuída, (colorido por gênero)'); # adiciona o título ao gráfico"
      ],
      "execution_count": null,
      "outputs": []
    },
    {
      "cell_type": "markdown",
      "metadata": {
        "id": "8iad5V2xhj16",
        "colab_type": "text"
      },
      "source": [
        "**Segmentação de clientes utilizando a Idade e as Notas Atribuídas.**"
      ]
    },
    {
      "cell_type": "code",
      "metadata": {
        "id": "Pho4Mfk0h5G2",
        "colab_type": "code",
        "colab": {}
      },
      "source": [
        "#biblioteca para realizar a construção do algoritmo não supervisionado K-means\n",
        "from sklearn.cluster import KMeans\n"
      ],
      "execution_count": null,
      "outputs": []
    },
    {
      "cell_type": "code",
      "metadata": {
        "id": "uzWrfFQFiIPt",
        "colab_type": "code",
        "colab": {}
      },
      "source": [
        "#obtém os dados para a construção do banco de dados apenas com a Idade e as Notas\n",
        "segmentacao_1 = customers[['Age' , 'Spending Score (1-100)']].iloc[: , :].values #transforma os dados em array\n"
      ],
      "execution_count": null,
      "outputs": []
    },
    {
      "cell_type": "code",
      "metadata": {
        "id": "yOA26a64lAKn",
        "colab_type": "code",
        "colab": {}
      },
      "source": [
        "kmeans = KMeans(n_clusters=4) #contrói o modelo para aplicar o algoritmo de clusterização não supervisionado K-means\n",
        "kmeans.fit(segmentacao_1) #aplica o modelo K-means aos dados\n",
        "y_kmeans = kmeans.predict(segmentacao_1) #encontra os grupos"
      ],
      "execution_count": null,
      "outputs": []
    },
    {
      "cell_type": "code",
      "metadata": {
        "id": "14_GWeRQjWjK",
        "colab_type": "code",
        "colab": {}
      },
      "source": [
        "#inicia a construção da figura\n",
        "plt.figure(1 , figsize = (15 , 7) ) #define o tamanho da figura\n",
        "plt.clf()\n"
      ],
      "execution_count": null,
      "outputs": []
    },
    {
      "cell_type": "code",
      "metadata": {
        "id": "F827tqrDlI53",
        "colab_type": "code",
        "colab": {}
      },
      "source": [
        "plt.scatter(segmentacao_1[:, 0], segmentacao_1[:, 1], c=y_kmeans, cmap='viridis') #constrói o gráfco de dispersão com os grupos\n",
        "centers = kmeans.cluster_centers_ #encontra os centros de cada um dos grupos\n",
        "plt.scatter(centers[:, 0], centers[:, 1], c='black', s=200, alpha=0.5) #realiza o plot de cada um dos grupos\n",
        "plt.xlabel(\"Idade\")  #adiciona o label para o eixo X\n",
        "plt.ylabel(\"Notas\") #adiciona o label para o eixo Y\n",
        "plt.title(\"Segmentação de clientes pela Idade x Notas\") #adiciona o título"
      ],
      "execution_count": null,
      "outputs": []
    },
    {
      "cell_type": "markdown",
      "metadata": {
        "id": "fznwaILrmV9-",
        "colab_type": "text"
      },
      "source": [
        "**Segmentação de clientes Salário Anual x Notas.**"
      ]
    },
    {
      "cell_type": "code",
      "metadata": {
        "id": "VLEeUfNkm3ql",
        "colab_type": "code",
        "colab": {}
      },
      "source": [
        "#obtém os dados para a construção do banco de dados apenas com o salário anual x notas\n",
        "segmentacao_2 = customers[['Annual Income (k$)' , 'Spending Score (1-100)']].iloc[: , :].values #transforma os dados em array\n"
      ],
      "execution_count": null,
      "outputs": []
    },
    {
      "cell_type": "code",
      "metadata": {
        "id": "5pkYq1gfnI8H",
        "colab_type": "code",
        "colab": {}
      },
      "source": [
        "kmeans = KMeans(n_clusters=5) #contrói o modelo para aplicar o algoritmo de clusterização não supervisionado K-means com 5 núcelos\n",
        "kmeans.fit(segmentacao_2) #aplica o modelo K-means aos dados\n",
        "y_kmeans = kmeans.predict(segmentacao_2) #encontra os grupos"
      ],
      "execution_count": null,
      "outputs": []
    },
    {
      "cell_type": "code",
      "metadata": {
        "id": "fvv8-kyZnS1N",
        "colab_type": "code",
        "colab": {}
      },
      "source": [
        "plt.scatter(segmentacao_2[:, 0], segmentacao_2[:, 1], c=y_kmeans, cmap='viridis') #constrói o gráfco de dispersão com os grupos\n",
        "centers = kmeans.cluster_centers_ #encontra os centros de cada um dos grupos\n",
        "plt.scatter(centers[:, 0], centers[:, 1], c='black', s=200, alpha=0.5) #realiza o plot de cada um dos grupos\n",
        "plt.xlabel(\"Salário Anual\") #label para o eixo X\n",
        "plt.ylabel(\"Notas\") #label para o eixo Y\n",
        "plt.title(\"Segmentação de clientes pela Salário x Notas\") #adiciona o titulo"
      ],
      "execution_count": null,
      "outputs": []
    },
    {
      "cell_type": "markdown",
      "metadata": {
        "id": "0fnc_cDjoi6V",
        "colab_type": "text"
      },
      "source": [
        "**Segmentação de clientes Idade X Salário Anual.**"
      ]
    },
    {
      "cell_type": "code",
      "metadata": {
        "id": "dtD_M_sFooXW",
        "colab_type": "code",
        "colab": {}
      },
      "source": [
        "#obtém os dados para a construção do banco de dados apenas com o salário anual x notas\n",
        "segmentacao_3 = customers[['Annual Income (k$)' , 'Age']].iloc[: , :].values #transforma os dados em array\n"
      ],
      "execution_count": null,
      "outputs": []
    },
    {
      "cell_type": "code",
      "metadata": {
        "id": "HJWSqtW8ouYe",
        "colab_type": "code",
        "colab": {}
      },
      "source": [
        "kmeans = KMeans(n_clusters=4) #contrói o modelo para aplicar o algoritmo de clusterização não supervisionado K-means com 5 núcelos\n",
        "kmeans.fit(segmentacao_3) #aplica o modelo K-means aos dados\n",
        "y_kmeans = kmeans.predict(segmentacao_3) #encontra os grupos"
      ],
      "execution_count": null,
      "outputs": []
    },
    {
      "cell_type": "code",
      "metadata": {
        "id": "lk4gUsHpoyYW",
        "colab_type": "code",
        "colab": {}
      },
      "source": [
        "plt.scatter(segmentacao_3[:, 0], segmentacao_3[:, 1], c=y_kmeans, cmap='viridis') #constrói o gráfco de dispersão com os grupos\n",
        "centers = kmeans.cluster_centers_ #encontra os centros de cada um dos grupos\n",
        "plt.scatter(centers[:, 0], centers[:, 1], c='black', s=200, alpha=0.5) #realiza o plot de cada um dos grupos\n",
        "plt.xlabel(\"Idade\") #label para o eixo X\n",
        "plt.ylabel(\"Salário Anual\") #label para o eixo Y\n",
        "plt.title(\"Segmentação de clientes pela Idade x Salário\") #adiciona o titulo"
      ],
      "execution_count": null,
      "outputs": []
    }
  ]
}